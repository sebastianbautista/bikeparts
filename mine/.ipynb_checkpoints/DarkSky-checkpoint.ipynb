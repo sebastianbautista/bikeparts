{
 "cells": [
  {
   "cell_type": "markdown",
   "metadata": {},
   "source": [
    "# Summary statistics and kernel density estimation for weather data pulled using the Dark Sky API\n",
    "\n",
    "This notebook contains some light cleaning and exploratory data analysis using DC weather data from 2010 - 2017.\n",
    "\n",
    "\n",
    "* Variable definitions - https://darksky.net/dev/docs#response-format\n",
    "\n"
   ]
  },
  {
   "cell_type": "code",
   "execution_count": 1,
   "metadata": {},
   "outputs": [
    {
     "data": {
      "text/plain": [
       "(2922, 27)"
      ]
     },
     "execution_count": 1,
     "metadata": {},
     "output_type": "execute_result"
    }
   ],
   "source": [
    "import numpy as np\n",
    "import pandas as pd\n",
    "import matplotlib.pyplot as plt\n",
    "from sklearn.neighbors import KernelDensity\n",
    "import seaborn as sns\n",
    "\n",
    "df = pd.read_csv(r'~\\git\\Bikeshare-DC\\data\\Dark_Sky_2010_2017.csv', parse_dates=[0], infer_datetime_format=True)\n",
    "df.shape"
   ]
  },
  {
   "cell_type": "code",
   "execution_count": 2,
   "metadata": {},
   "outputs": [
    {
     "name": "stdout",
     "output_type": "stream",
     "text": [
      "<class 'pandas.core.frame.DataFrame'>\n",
      "RangeIndex: 2922 entries, 0 to 2921\n",
      "Data columns (total 29 columns):\n",
      "date                           2922 non-null datetime64[ns]\n",
      "apparentTemperatureHigh        2922 non-null float64\n",
      "apparentTemperatureHighTime    2922 non-null datetime64[ns]\n",
      "apparentTemperatureLow         2922 non-null float64\n",
      "apparentTemperatureLowTime     2922 non-null datetime64[ns]\n",
      "cloudCover                     2916 non-null float64\n",
      "dewPoint                       2922 non-null float64\n",
      "humidity                       2922 non-null float64\n",
      "moonPhase                      2922 non-null float64\n",
      "precipAccumulation             124 non-null float64\n",
      "precipIntensity                2922 non-null float64\n",
      "precipIntensityMax             2922 non-null float64\n",
      "precipIntensityMaxTime         1590 non-null datetime64[ns]\n",
      "precipProbability              2922 non-null float64\n",
      "precipType                     1453 non-null object\n",
      "pressure                       2922 non-null float64\n",
      "sunriseTime                    2922 non-null datetime64[ns]\n",
      "sunsetTime                     2922 non-null datetime64[ns]\n",
      "temperatureHigh                2922 non-null float64\n",
      "temperatureHighTime            2922 non-null datetime64[ns]\n",
      "temperatureLow                 2922 non-null float64\n",
      "temperatureLowTime             2922 non-null datetime64[ns]\n",
      "time                           2922 non-null datetime64[ns]\n",
      "visibility                     2922 non-null float64\n",
      "windBearing                    2922 non-null int64\n",
      "windSpeed                      2922 non-null float64\n",
      "daylightHours                  2922 non-null float64\n",
      "rain_dummy                     2922 non-null uint8\n",
      "snow_dummy                     2922 non-null uint8\n",
      "dtypes: datetime64[ns](9), float64(16), int64(1), object(1), uint8(2)\n",
      "memory usage: 622.1+ KB\n"
     ]
    }
   ],
   "source": [
    "# creating weather dummies\n",
    "df = pd.concat([df, pd.get_dummies(df['precipType'])], axis=1)\n",
    "df.rename(columns = {'rain': 'rain_dummy','snow': 'snow_dummy'}, inplace = True)\n",
    "\n",
    "# converting Unix time to human-readable time\n",
    "timevars = ['apparentTemperatureHighTime','apparentTemperatureLowTime','precipIntensityMaxTime',\n",
    "           'sunriseTime','sunsetTime','temperatureHighTime','temperatureLowTime', 'time']\n",
    "for var in timevars:\n",
    "    df[var] = pd.to_datetime(df[var],unit='s')\n",
    "\n",
    "df.info()"
   ]
  },
  {
   "cell_type": "code",
   "execution_count": null,
   "metadata": {
    "collapsed": true
   },
   "outputs": [],
   "source": [
    "# summary statistics\n",
    "print(df.describe())\n",
    "df.describe()"
   ]
  },
  {
   "cell_type": "code",
   "execution_count": null,
   "metadata": {
    "collapsed": true
   },
   "outputs": [],
   "source": [
    "# KDE with Scikit-Learn\n",
    "def kde_sklearn(x, x_grid, bandwidth=0.2):\n",
    "    kde_skl = KernelDensity(bandwidth=bandwidth)\n",
    "    kde_skl.fit(x[:, np.newaxis])\n",
    "    # score_samples returns log-likelihood of samples\n",
    "    pdf = kde_skl.score_samples(x_grid[:, np.newaxis])\n",
    "    return np.exp(pdf)\n",
    "\n",
    "def density(column, bandwidth=0.2):   \n",
    "    x_grid = np.linspace(df.loc[:, column].min(), df.loc[:, column].max())\n",
    "    x = df.loc[:, column]\n",
    "    pdf = kde_sklearn(x, x_grid, bandwidth=bandwidth)\n",
    "    ax.plot(x_grid, pdf, color='blue', alpha=0.5, lw=1)\n",
    "    ax.set_title('KDE for {}'.format(column))\n",
    "    plt.show()"
   ]
  },
  {
   "cell_type": "code",
   "execution_count": null,
   "metadata": {
    "collapsed": true
   },
   "outputs": [],
   "source": [
    "%matplotlib inline\n",
    "# can use the density function to produce KDEs for any single variable\n",
    "# nonparametric estimation of the pdf\n",
    "\n",
    "fig, ax = plt.subplots()\n",
    "density('daylightHours', bandwidth=1)"
   ]
  },
  {
   "cell_type": "code",
   "execution_count": null,
   "metadata": {
    "collapsed": true
   },
   "outputs": [],
   "source": [
    "%matplotlib inline\n",
    "fig, ax = plt.subplots()\n",
    "density('apparentTemperatureHigh', bandwidth=4)"
   ]
  },
  {
   "cell_type": "code",
   "execution_count": null,
   "metadata": {
    "collapsed": true
   },
   "outputs": [],
   "source": [
    "%matplotlib inline\n",
    "fig, ax = plt.subplots()\n",
    "density('apparentTemperatureLow', bandwidth=4)"
   ]
  },
  {
   "cell_type": "code",
   "execution_count": null,
   "metadata": {
    "collapsed": true
   },
   "outputs": [],
   "source": [
    "%matplotlib inline\n",
    "fig, ax = plt.subplots()\n",
    "density('visibility', bandwidth=1)\n",
    "# in miles"
   ]
  },
  {
   "cell_type": "code",
   "execution_count": null,
   "metadata": {
    "collapsed": true
   },
   "outputs": [],
   "source": [
    "%matplotlib inline\n",
    "fig, ax = plt.subplots()\n",
    "density('windSpeed', bandwidth=1)"
   ]
  },
  {
   "cell_type": "code",
   "execution_count": null,
   "metadata": {
    "collapsed": true
   },
   "outputs": [],
   "source": [
    "%matplotlib inline\n",
    "sns.pairplot(df)"
   ]
  }
 ],
 "metadata": {
  "kernelspec": {
   "display_name": "Python 3",
   "language": "python",
   "name": "python3"
  },
  "language_info": {
   "codemirror_mode": {
    "name": "ipython",
    "version": 3
   },
   "file_extension": ".py",
   "mimetype": "text/x-python",
   "name": "python",
   "nbconvert_exporter": "python",
   "pygments_lexer": "ipython3",
   "version": "3.6.3"
  }
 },
 "nbformat": 4,
 "nbformat_minor": 2
}
